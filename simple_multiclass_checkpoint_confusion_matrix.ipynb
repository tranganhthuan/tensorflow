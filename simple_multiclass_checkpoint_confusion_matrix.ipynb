{
 "cells": [
  {
   "cell_type": "code",
   "execution_count": 29,
   "metadata": {},
   "outputs": [],
   "source": [
    "import tensorflow as tf\n",
    "import tensorflow.keras as keras\n",
    "from tensorflow.keras.callbacks import ModelCheckpoint"
   ]
  },
  {
   "cell_type": "code",
   "execution_count": 40,
   "metadata": {},
   "outputs": [],
   "source": [
    "path = 'weights/rock_paper_scissor/checkpoint'\n",
    "callbacks = ModelCheckpoint(\n",
    "    filepath=path,\n",
    "    save_weights_only=True,\n",
    "    monitor='val_acc',\n",
    "    mode='max',\n",
    "    save_best_only=True)"
   ]
  },
  {
   "cell_type": "code",
   "execution_count": 31,
   "metadata": {},
   "outputs": [],
   "source": [
    "model = keras.models.Sequential()\n",
    "model.add(keras.layers.Conv2D(32,(3,3),activation=\"relu\",input_shape=(128,128,3)))\n",
    "model.add(keras.layers.MaxPool2D((2,2)))\n",
    "model.add(keras.layers.Conv2D(64,(3,3),activation=\"relu\"))\n",
    "model.add(keras.layers.MaxPool2D((2,2)))\n",
    "model.add(keras.layers.Conv2D(128,(3,3),activation=\"relu\"))\n",
    "model.add(keras.layers.MaxPool2D((2,2)))\n",
    "model.add(keras.layers.Conv2D(128,(3,3),activation=\"relu\"))\n",
    "model.add(keras.layers.MaxPool2D((2,2)))\n",
    "model.add(keras.layers.Flatten())\n",
    "model.add(keras.layers.Dropout(0.25))\n",
    "model.add(keras.layers.Dense(128, activation=\"relu\"))\n",
    "model.add(keras.layers.Dense(3, activation=\"softmax\"))\n",
    "model.compile(optimizer= 'adam', loss='categorical_crossentropy', metrics=['acc'])"
   ]
  },
  {
   "cell_type": "code",
   "execution_count": 70,
   "metadata": {},
   "outputs": [
    {
     "name": "stdout",
     "output_type": "stream",
     "text": [
      "Found 2520 images belonging to 3 classes.\n",
      "Found 372 images belonging to 3 classes.\n"
     ]
    }
   ],
   "source": [
    "TRAINING_DIR = \"data/rock_paper_scissor/training\"\n",
    "train_datagen = keras.preprocessing.image.ImageDataGenerator(rescale=1./255,\n",
    "      rotation_range=40,\n",
    "      width_shift_range=0.2,\n",
    "      height_shift_range=0.2,\n",
    "      shear_range=0.2,\n",
    "      zoom_range=0.2,\n",
    "      horizontal_flip=True,\n",
    "      fill_mode='nearest')\n",
    "\n",
    "train_generator = train_datagen.flow_from_directory(TRAINING_DIR,batch_size=32,class_mode=\"categorical\",target_size = (128,128))\n",
    "\n",
    "VALIDATION_DIR = \"data/rock_paper_scissor/testing\"\n",
    "validation_datagen = keras.preprocessing.image.ImageDataGenerator(rescale=1.0/255.)\n",
    "\n",
    "validation_generator = validation_datagen.flow_from_directory(VALIDATION_DIR,batch_size=32,class_mode=\"categorical\",target_size = (128,128))"
   ]
  },
  {
   "cell_type": "code",
   "execution_count": 59,
   "metadata": {
    "scrolled": false
   },
   "outputs": [
    {
     "name": "stdout",
     "output_type": "stream",
     "text": [
      "Epoch 1/15\n",
      "20/20 [==============================] - 13s 662ms/step - loss: 0.3078 - acc: 0.8875 - val_loss: 0.0141 - val_acc: 1.0000\n",
      "Epoch 2/15\n",
      "20/20 [==============================] - 13s 666ms/step - loss: 0.2786 - acc: 0.8938 - val_loss: 0.6149 - val_acc: 0.8333\n",
      "Epoch 3/15\n",
      "20/20 [==============================] - 13s 665ms/step - loss: 0.2273 - acc: 0.9172 - val_loss: 0.0266 - val_acc: 1.0000\n",
      "Epoch 4/15\n",
      "20/20 [==============================] - 14s 688ms/step - loss: 0.2622 - acc: 0.9000 - val_loss: 0.0114 - val_acc: 1.0000\n",
      "Epoch 5/15\n",
      "20/20 [==============================] - 15s 728ms/step - loss: 0.2199 - acc: 0.9156 - val_loss: 0.1272 - val_acc: 0.8333\n",
      "Epoch 6/15\n",
      "20/20 [==============================] - 14s 704ms/step - loss: 0.1848 - acc: 0.9406 - val_loss: 1.0510 - val_acc: 0.6667\n",
      "Epoch 7/15\n",
      "20/20 [==============================] - 15s 732ms/step - loss: 0.2102 - acc: 0.9312 - val_loss: 0.2769 - val_acc: 0.8333\n",
      "Epoch 8/15\n",
      "20/20 [==============================] - 13s 667ms/step - loss: 0.1668 - acc: 0.9391 - val_loss: 0.0282 - val_acc: 1.0000\n",
      "Epoch 9/15\n",
      "20/20 [==============================] - 13s 659ms/step - loss: 0.1468 - acc: 0.9516 - val_loss: 0.4093 - val_acc: 0.8333\n",
      "Epoch 10/15\n",
      "20/20 [==============================] - 13s 668ms/step - loss: 0.1500 - acc: 0.9509 - val_loss: 0.0064 - val_acc: 1.0000\n",
      "Epoch 11/15\n",
      "20/20 [==============================] - 13s 670ms/step - loss: 0.1734 - acc: 0.9422 - val_loss: 0.0482 - val_acc: 1.0000\n",
      "Epoch 12/15\n",
      "20/20 [==============================] - 13s 661ms/step - loss: 0.1411 - acc: 0.9516 - val_loss: 0.0021 - val_acc: 1.0000\n",
      "Epoch 13/15\n",
      "20/20 [==============================] - 13s 662ms/step - loss: 0.1301 - acc: 0.9469 - val_loss: 0.1398 - val_acc: 0.8333\n",
      "Epoch 14/15\n",
      "20/20 [==============================] - 13s 667ms/step - loss: 0.1406 - acc: 0.9422 - val_loss: 2.8410e-05 - val_acc: 1.0000\n",
      "Epoch 15/15\n",
      "20/20 [==============================] - 13s 665ms/step - loss: 0.1222 - acc: 0.9563 - val_loss: 0.0191 - val_acc: 1.0000\n"
     ]
    }
   ],
   "source": [
    "history = model.fit(train_generator,\n",
    "                              epochs=15,\n",
    "                              verbose=1,\n",
    "                              validation_data=validation_generator,\n",
    "                              validation_steps=3,\n",
    "                              steps_per_epoch=20,\n",
    "                              callbacks=[callbacks])"
   ]
  },
  {
   "cell_type": "code",
   "execution_count": 54,
   "metadata": {},
   "outputs": [
    {
     "data": {
      "text/plain": [
       "<tensorflow.python.training.tracking.util.CheckpointLoadStatus at 0x284404831f0>"
      ]
     },
     "execution_count": 54,
     "metadata": {},
     "output_type": "execute_result"
    }
   ],
   "source": [
    "model.load_weights(path)"
   ]
  },
  {
   "cell_type": "code",
   "execution_count": 80,
   "metadata": {},
   "outputs": [],
   "source": [
    "from sklearn.metrics import classification_report, confusion_matrix\n",
    "import numpy as np\n",
    "unshuffle_generator = validation_datagen.flow_from_directory(VALIDATION_DIR,batch_size=32,class_mode=\"categorical\",target_size = (128,128), shuffle=False)\n",
    "Y_pred = model.predict(unshuffle_generator)\n",
    "y_pred = np.argmax(Y_pred, axis=1)"
   ]
  },
  {
   "cell_type": "code",
   "execution_count": 81,
   "metadata": {},
   "outputs": [
    {
     "name": "stdout",
     "output_type": "stream",
     "text": [
      "Confusion Matrix\n",
      "[[108   7   9]\n",
      " [  0 124   0]\n",
      " [  0   0 124]]\n"
     ]
    }
   ],
   "source": [
    "print('Confusion Matrix')\n",
    "print(confusion_matrix(unshuffle_generator.classes, y_pred))"
   ]
  },
  {
   "cell_type": "code",
   "execution_count": 82,
   "metadata": {},
   "outputs": [
    {
     "name": "stdout",
     "output_type": "stream",
     "text": [
      "Classification Report\n",
      "              precision    recall  f1-score   support\n",
      "\n",
      "       paper       1.00      0.87      0.93       124\n",
      "        rock       0.95      1.00      0.97       124\n",
      "    scissors       0.93      1.00      0.96       124\n",
      "\n",
      "    accuracy                           0.96       372\n",
      "   macro avg       0.96      0.96      0.96       372\n",
      "weighted avg       0.96      0.96      0.96       372\n",
      "\n"
     ]
    }
   ],
   "source": [
    "print('Classification Report')\n",
    "target_names = list(unshuffle_generator.class_indices.keys())\n",
    "print(classification_report(unshuffle_generator.classes, y_pred, target_names=target_names))"
   ]
  }
 ],
 "metadata": {
  "kernelspec": {
   "display_name": "Python 3",
   "language": "python",
   "name": "python3"
  },
  "language_info": {
   "codemirror_mode": {
    "name": "ipython",
    "version": 3
   },
   "file_extension": ".py",
   "mimetype": "text/x-python",
   "name": "python",
   "nbconvert_exporter": "python",
   "pygments_lexer": "ipython3",
   "version": "3.8.3"
  }
 },
 "nbformat": 4,
 "nbformat_minor": 4
}
