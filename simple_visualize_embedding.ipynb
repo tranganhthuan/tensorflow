{
 "cells": [
  {
   "cell_type": "code",
   "execution_count": 5,
   "metadata": {},
   "outputs": [
    {
     "name": "stdout",
     "output_type": "stream",
     "text": [
      "(10000, 16)\n"
     ]
    }
   ],
   "source": [
    "import tensorflow.keras as keras\n",
    "import io\n",
    "import json\n",
    "\n",
    "model = keras.models.load_model('model/bbc_news')\n",
    "e = model.layers[0]\n",
    "weights = e.get_weights()[0]\n",
    "print(weights.shape) # shape: (vocab_size, embedding_dim)\n",
    "\n",
    "with open('data/bbc_news/word_index.json') as infile:\n",
    "    word_index = json.load(infile)\n",
    "reverse_word_index = dict([(value, key) for (key, value) in word_index.items()])\n",
    "\n",
    "out_v = io.open('data/bbc_news/visualize/vecs.tsv', 'w', encoding='utf-8')\n",
    "out_m = io.open('data/bbc_news/visualize/meta.tsv', 'w', encoding='utf-8')\n",
    "\n",
    "\n",
    "vocab_size = 10000\n",
    "for word_num in range(1, vocab_size):\n",
    "    word = reverse_word_index[word_num]\n",
    "    embeddings = weights[word_num]\n",
    "    out_m.write(word + \"\\n\")\n",
    "    out_v.write('\\t'.join([str(x) for x in embeddings]) + \"\\n\")\n",
    "    \n",
    "out_v.close()\n",
    "out_m.close()"
   ]
  },
  {
   "cell_type": "code",
   "execution_count": 21,
   "metadata": {},
   "outputs": [],
   "source": [
    "# Visualize from downloaded weights\n",
    "import io\n",
    "import numpy as np\n",
    "\n",
    "out_v = io.open('weights/glove/vecs.tsv', 'w', encoding='utf-8')\n",
    "out_m = io.open('weights/glove/meta.tsv', 'w', encoding='utf-8')\n",
    "\n",
    "path_glove = \"weights/glove/glove.6B.50d.txt\"\n",
    "with open(path_glove, encoding=\"utf8\") as f:\n",
    "    for line in f:\n",
    "        values = line.split()\n",
    "        word = values[0]\n",
    "        coefs = np.asarray(values[1:], dtype='float32').tolist()\n",
    "        out_m.write(word + \"\\n\")\n",
    "        out_v.write('\\t'.join([str(x) for x in coefs]) + \"\\n\")\n",
    "out_v.close()\n",
    "out_m.close()"
   ]
  }
 ],
 "metadata": {
  "kernelspec": {
   "display_name": "Python 3",
   "language": "python",
   "name": "python3"
  },
  "language_info": {
   "codemirror_mode": {
    "name": "ipython",
    "version": 3
   },
   "file_extension": ".py",
   "mimetype": "text/x-python",
   "name": "python",
   "nbconvert_exporter": "python",
   "pygments_lexer": "ipython3",
   "version": "3.8.3"
  }
 },
 "nbformat": 4,
 "nbformat_minor": 4
}
