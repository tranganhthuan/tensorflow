{
 "cells": [
  {
   "cell_type": "code",
   "execution_count": 14,
   "metadata": {},
   "outputs": [],
   "source": [
    "import tensorflow as tf\n",
    "import tensorflow.keras as keras"
   ]
  },
  {
   "cell_type": "code",
   "execution_count": 21,
   "metadata": {},
   "outputs": [],
   "source": [
    "class myCallback(tf.keras.callbacks.Callback):\n",
    "        def on_epoch_end(self,epoch,logs={}):\n",
    "            print(logs)\n",
    "            print(logs.get('accuracy'))\n",
    "            if logs.get('accuracy') > 0.99:\n",
    "                print(\"\\nReached 99% accuracy so cancelling training!\")\n",
    "                self.model.stop_training = True\n",
    "callbacks = myCallback()"
   ]
  },
  {
   "cell_type": "code",
   "execution_count": 24,
   "metadata": {},
   "outputs": [],
   "source": [
    "mnist = tf.keras.datasets.mnist\n",
    "(x_train, y_train),(x_test, y_test) = mnist.load_data()\n",
    "x_train = x_train / 255\n",
    "x_test = x_test / 255"
   ]
  },
  {
   "cell_type": "code",
   "execution_count": 26,
   "metadata": {},
   "outputs": [],
   "source": [
    "model = tf.keras.models.Sequential()\n",
    "model.add(keras.layers.Flatten(input_shape=(28,28)))\n",
    "model.add(keras.layers.Dense(128, activation=tf.nn.relu))\n",
    "model.add(keras.layers.Dense(10, activation=tf.nn.softmax))\n",
    "model.compile(optimizer='adam',\n",
    "              loss='sparse_categorical_crossentropy',\n",
    "              metrics=['accuracy'])"
   ]
  },
  {
   "cell_type": "code",
   "execution_count": 27,
   "metadata": {},
   "outputs": [
    {
     "name": "stdout",
     "output_type": "stream",
     "text": [
      "Epoch 1/10\n",
      "1829/1875 [============================>.] - ETA: 0s - loss: 0.2572 - accuracy: 0.9273{'loss': 0.2547420263290405, 'accuracy': 0.9279000163078308}\n",
      "0.9279000163078308\n",
      "1875/1875 [==============================] - 2s 1ms/step - loss: 0.2547 - accuracy: 0.9279\n",
      "Epoch 2/10\n",
      "1847/1875 [============================>.] - ETA: 0s - loss: 0.1118 - accuracy: 0.9675{'loss': 0.11107240617275238, 'accuracy': 0.9677500128746033}\n",
      "0.9677500128746033\n",
      "1875/1875 [==============================] - 2s 1ms/step - loss: 0.1111 - accuracy: 0.9678\n",
      "Epoch 3/10\n",
      "1843/1875 [============================>.] - ETA: 0s - loss: 0.0779 - accuracy: 0.9761{'loss': 0.07768141478300095, 'accuracy': 0.9761666655540466}\n",
      "0.9761666655540466\n",
      "1875/1875 [==============================] - 2s 1ms/step - loss: 0.0777 - accuracy: 0.9762\n",
      "Epoch 4/10\n",
      "1873/1875 [============================>.] - ETA: 0s - loss: 0.0572 - accuracy: 0.9825{'loss': 0.05716465786099434, 'accuracy': 0.982450008392334}\n",
      "0.982450008392334\n",
      "1875/1875 [==============================] - 2s 1ms/step - loss: 0.0572 - accuracy: 0.9825\n",
      "Epoch 5/10\n",
      "1832/1875 [============================>.] - ETA: 0s - loss: 0.0446 - accuracy: 0.9859{'loss': 0.044791679829359055, 'accuracy': 0.9858499765396118}\n",
      "0.9858499765396118\n",
      "1875/1875 [==============================] - 2s 1ms/step - loss: 0.0448 - accuracy: 0.9858\n",
      "Epoch 6/10\n",
      "1830/1875 [============================>.] - ETA: 0s - loss: 0.0359 - accuracy: 0.9888{'loss': 0.03626178950071335, 'accuracy': 0.9887166619300842}\n",
      "0.9887166619300842\n",
      "1875/1875 [==============================] - 2s 1ms/step - loss: 0.0363 - accuracy: 0.9887\n",
      "Epoch 7/10\n",
      "1873/1875 [============================>.] - ETA: 0s - loss: 0.0281 - accuracy: 0.9913{'loss': 0.02804291993379593, 'accuracy': 0.9913333058357239}\n",
      "0.9913333058357239\n",
      "\n",
      "Reached 99% accuracy so cancelling training!\n",
      "1875/1875 [==============================] - 2s 1ms/step - loss: 0.0280 - accuracy: 0.9913\n"
     ]
    }
   ],
   "source": [
    "history = model.fit(x_train, y_train, epochs = 10, callbacks=[callbacks])"
   ]
  }
 ],
 "metadata": {
  "kernelspec": {
   "display_name": "Python 3",
   "language": "python",
   "name": "python3"
  },
  "language_info": {
   "codemirror_mode": {
    "name": "ipython",
    "version": 3
   },
   "file_extension": ".py",
   "mimetype": "text/x-python",
   "name": "python",
   "nbconvert_exporter": "python",
   "pygments_lexer": "ipython3",
   "version": "3.8.3"
  }
 },
 "nbformat": 4,
 "nbformat_minor": 4
}
