{
 "cells": [
  {
   "cell_type": "code",
   "execution_count": 1,
   "metadata": {},
   "outputs": [],
   "source": [
    "import tensorflow as tf\n",
    "import tensorflow.keras as keras"
   ]
  },
  {
   "cell_type": "code",
   "execution_count": 2,
   "metadata": {},
   "outputs": [],
   "source": [
    "model = keras.models.Sequential()\n",
    "model.add(keras.layers.Conv2D(32,(3,3),activation=\"relu\",input_shape=(128,128,3)))\n",
    "model.add(keras.layers.BatchNormalization())\n",
    "model.add(keras.layers.MaxPool2D((2,2)))\n",
    "model.add(keras.layers.Dropout(0.2))\n",
    "model.add(keras.layers.Conv2D(64,(3,3),activation=\"relu\"))\n",
    "model.add(keras.layers.BatchNormalization())\n",
    "model.add(keras.layers.MaxPool2D((2,2)))\n",
    "model.add(keras.layers.Dropout(0.2))\n",
    "model.add(keras.layers.Conv2D(128,(3,3),activation=\"relu\"))\n",
    "model.add(keras.layers.BatchNormalization())\n",
    "model.add(keras.layers.MaxPool2D((2,2)))\n",
    "model.add(keras.layers.Dropout(0.2))\n",
    "model.add(keras.layers.Flatten())\n",
    "model.add(keras.layers.Dense(128, activation=\"relu\"))\n",
    "model.add(keras.layers.Dropout(0.2))\n",
    "model.add(keras.layers.Dense(1, activation=\"sigmoid\"))\n",
    "model.compile(optimizer= 'rmsprop', loss='binary_crossentropy', metrics=['acc'])"
   ]
  },
  {
   "cell_type": "code",
   "execution_count": 3,
   "metadata": {},
   "outputs": [
    {
     "name": "stdout",
     "output_type": "stream",
     "text": [
      "Found 2700 images belonging to 2 classes.\n",
      "Found 300 images belonging to 2 classes.\n"
     ]
    }
   ],
   "source": [
    "TRAINING_DIR = \"data/cats_vs_dogs/training\"\n",
    "train_datagen = keras.preprocessing.image.ImageDataGenerator(rescale=1./255,\n",
    "      rotation_range=40,\n",
    "      width_shift_range=0.2,\n",
    "      height_shift_range=0.2,\n",
    "      shear_range=0.2,\n",
    "      zoom_range=0.2,\n",
    "      horizontal_flip=True,\n",
    "      fill_mode='nearest')\n",
    "\n",
    "train_generator = train_datagen.flow_from_directory(TRAINING_DIR,batch_size=10,class_mode=\"binary\",target_size = (128,128))\n",
    "\n",
    "VALIDATION_DIR = \"data/cats_vs_dogs/testing\"\n",
    "validation_datagen = keras.preprocessing.image.ImageDataGenerator(rescale=1.0/255.)\n",
    "\n",
    "validation_generator = validation_datagen.flow_from_directory(VALIDATION_DIR,batch_size=2,class_mode=\"binary\",target_size = (128,128))"
   ]
  },
  {
   "cell_type": "code",
   "execution_count": 4,
   "metadata": {},
   "outputs": [
    {
     "name": "stdout",
     "output_type": "stream",
     "text": [
      "Epoch 1/10\n",
      "270/270 [==============================] - 132s 488ms/step - loss: 1.6324 - acc: 0.5367 - val_loss: 3.7126 - val_acc: 0.5000\n",
      "Epoch 2/10\n",
      "270/270 [==============================] - 131s 485ms/step - loss: 0.7877 - acc: 0.5433 - val_loss: 1.7728 - val_acc: 0.5700\n",
      "Epoch 3/10\n",
      "270/270 [==============================] - 134s 498ms/step - loss: 0.7288 - acc: 0.6052 - val_loss: 0.8423 - val_acc: 0.5967\n",
      "Epoch 4/10\n",
      "270/270 [==============================] - 130s 482ms/step - loss: 0.7369 - acc: 0.6033 - val_loss: 1.5159 - val_acc: 0.6100\n",
      "Epoch 5/10\n",
      "270/270 [==============================] - 129s 478ms/step - loss: 0.7033 - acc: 0.6107 - val_loss: 0.7997 - val_acc: 0.6367\n",
      "Epoch 6/10\n",
      "270/270 [==============================] - 134s 496ms/step - loss: 0.6853 - acc: 0.6248 - val_loss: 0.9724 - val_acc: 0.5700\n",
      "Epoch 7/10\n",
      "270/270 [==============================] - 139s 515ms/step - loss: 0.6633 - acc: 0.6626 - val_loss: 1.4732 - val_acc: 0.6300\n",
      "Epoch 8/10\n",
      "270/270 [==============================] - 143s 529ms/step - loss: 0.6604 - acc: 0.6481 - val_loss: 0.8875 - val_acc: 0.6633\n",
      "Epoch 9/10\n",
      "270/270 [==============================] - 145s 537ms/step - loss: 0.6410 - acc: 0.6552 - val_loss: 0.7296 - val_acc: 0.7167\n",
      "Epoch 10/10\n",
      "270/270 [==============================] - 141s 522ms/step - loss: 0.6447 - acc: 0.6719 - val_loss: 0.9271 - val_acc: 0.6133\n"
     ]
    }
   ],
   "source": [
    "history = model.fit(train_generator,\n",
    "                              epochs=10,\n",
    "                              verbose=1,\n",
    "                              validation_data=validation_generator)"
   ]
  }
 ],
 "metadata": {
  "kernelspec": {
   "display_name": "Python 3",
   "language": "python",
   "name": "python3"
  },
  "language_info": {
   "codemirror_mode": {
    "name": "ipython",
    "version": 3
   },
   "file_extension": ".py",
   "mimetype": "text/x-python",
   "name": "python",
   "nbconvert_exporter": "python",
   "pygments_lexer": "ipython3",
   "version": "3.8.3"
  }
 },
 "nbformat": 4,
 "nbformat_minor": 4
}
