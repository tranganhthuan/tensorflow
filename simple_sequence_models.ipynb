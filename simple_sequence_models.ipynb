{
 "cells": [
  {
   "cell_type": "code",
   "execution_count": 1,
   "metadata": {},
   "outputs": [],
   "source": [
    "import tensorflow as tf"
   ]
  },
  {
   "cell_type": "code",
   "execution_count": 6,
   "metadata": {},
   "outputs": [],
   "source": [
    "import numpy as np\n",
    "train_padded = np.load(\"data/bbc_news/train/train_padded.npy\")\n",
    "validation_padded = np.load(\"data/bbc_news/validation/validation_padded.npy\")\n",
    "training_label_seq = np.load(\"data/bbc_news/train/training_label_seq.npy\")\n",
    "validation_label_seq = np.load(\"data/bbc_news/validation/validation_label_seq.npy\")"
   ]
  },
  {
   "cell_type": "code",
   "execution_count": 7,
   "metadata": {},
   "outputs": [],
   "source": [
    "vocab_size = 10000\n",
    "embedding_dim = 16\n",
    "max_length = 120"
   ]
  },
  {
   "cell_type": "code",
   "execution_count": 14,
   "metadata": {},
   "outputs": [
    {
     "name": "stdout",
     "output_type": "stream",
     "text": [
      "Epoch 1/10\n",
      "56/56 [==============================] - 6s 106ms/step - loss: 1.6766 - accuracy: 0.2303 - val_loss: 1.5920 - val_accuracy: 0.3438\n",
      "Epoch 2/10\n",
      "56/56 [==============================] - 4s 75ms/step - loss: 1.5046 - accuracy: 0.3101 - val_loss: 1.3017 - val_accuracy: 0.4382\n",
      "Epoch 3/10\n",
      "56/56 [==============================] - 4s 76ms/step - loss: 1.3629 - accuracy: 0.4213 - val_loss: 1.4889 - val_accuracy: 0.3596\n",
      "Epoch 4/10\n",
      "56/56 [==============================] - 4s 75ms/step - loss: 1.2037 - accuracy: 0.5169 - val_loss: 1.0156 - val_accuracy: 0.5618\n",
      "Epoch 5/10\n",
      "56/56 [==============================] - 4s 77ms/step - loss: 0.9322 - accuracy: 0.6573 - val_loss: 0.9863 - val_accuracy: 0.6090\n",
      "Epoch 6/10\n",
      "56/56 [==============================] - 4s 78ms/step - loss: 0.9725 - accuracy: 0.6545 - val_loss: 0.7994 - val_accuracy: 0.7438\n",
      "Epoch 7/10\n",
      "56/56 [==============================] - 4s 79ms/step - loss: 0.4883 - accuracy: 0.8438 - val_loss: 0.7486 - val_accuracy: 0.7843\n",
      "Epoch 8/10\n",
      "56/56 [==============================] - 4s 76ms/step - loss: 0.3672 - accuracy: 0.8798 - val_loss: 0.3996 - val_accuracy: 0.8809\n",
      "Epoch 9/10\n",
      "56/56 [==============================] - 4s 70ms/step - loss: 0.2714 - accuracy: 0.9169 - val_loss: 0.3117 - val_accuracy: 0.8944\n",
      "Epoch 10/10\n",
      "56/56 [==============================] - 4s 74ms/step - loss: 0.1448 - accuracy: 0.9579 - val_loss: 0.3167 - val_accuracy: 0.9281\n"
     ]
    },
    {
     "data": {
      "text/plain": [
       "<tensorflow.python.keras.callbacks.History at 0x211bad62eb0>"
      ]
     },
     "execution_count": 14,
     "metadata": {},
     "output_type": "execute_result"
    }
   ],
   "source": [
    "# Single LSTM\n",
    "lstm = tf.keras.Sequential([\n",
    "    tf.keras.layers.Embedding(vocab_size,64),\n",
    "    tf.keras.layers.LSTM(64),\n",
    "    tf.keras.layers.Dense(64, activation='relu'),\n",
    "    tf.keras.layers.Dense(6, activation='softmax')\n",
    "])\n",
    "lstm.compile(loss='sparse_categorical_crossentropy', optimizer='adam', metrics=['accuracy'])\n",
    "lstm.fit(train_padded,training_label_seq,validation_data=(validation_padded,validation_label_seq), epochs=10)"
   ]
  },
  {
   "cell_type": "code",
   "execution_count": 15,
   "metadata": {},
   "outputs": [
    {
     "name": "stdout",
     "output_type": "stream",
     "text": [
      "Epoch 1/10\n",
      "56/56 [==============================] - 8s 142ms/step - loss: 1.6591 - accuracy: 0.2236 - val_loss: 1.5984 - val_accuracy: 0.2270\n",
      "Epoch 2/10\n",
      "56/56 [==============================] - 8s 134ms/step - loss: 1.5362 - accuracy: 0.3140 - val_loss: 1.3201 - val_accuracy: 0.3461\n",
      "Epoch 3/10\n",
      "56/56 [==============================] - 7s 121ms/step - loss: 1.1277 - accuracy: 0.4989 - val_loss: 1.2209 - val_accuracy: 0.4674\n",
      "Epoch 4/10\n",
      "56/56 [==============================] - 6s 109ms/step - loss: 0.8054 - accuracy: 0.6101 - val_loss: 0.8194 - val_accuracy: 0.6315\n",
      "Epoch 5/10\n",
      "56/56 [==============================] - 6s 113ms/step - loss: 0.6484 - accuracy: 0.7090 - val_loss: 0.9719 - val_accuracy: 0.5685\n",
      "Epoch 6/10\n",
      "56/56 [==============================] - 6s 111ms/step - loss: 0.5794 - accuracy: 0.7697 - val_loss: 0.7776 - val_accuracy: 0.7393\n",
      "Epoch 7/10\n",
      "56/56 [==============================] - 7s 133ms/step - loss: 0.8534 - accuracy: 0.6904 - val_loss: 1.3832 - val_accuracy: 0.5798\n",
      "Epoch 8/10\n",
      "56/56 [==============================] - 7s 128ms/step - loss: 0.8590 - accuracy: 0.7140 - val_loss: 0.9259 - val_accuracy: 0.6382\n",
      "Epoch 9/10\n",
      "56/56 [==============================] - 8s 143ms/step - loss: 0.5806 - accuracy: 0.7860 - val_loss: 0.8118 - val_accuracy: 0.7596\n",
      "Epoch 10/10\n",
      "56/56 [==============================] - 7s 129ms/step - loss: 0.4424 - accuracy: 0.8551 - val_loss: 0.6660 - val_accuracy: 0.8247\n"
     ]
    },
    {
     "data": {
      "text/plain": [
       "<tensorflow.python.keras.callbacks.History at 0x211c12fc2e0>"
      ]
     },
     "execution_count": 15,
     "metadata": {},
     "output_type": "execute_result"
    }
   ],
   "source": [
    "# Multiple LSTM\n",
    "mul_lstm = tf.keras.Sequential([\n",
    "    tf.keras.layers.Embedding(vocab_size,64),\n",
    "    tf.keras.layers.LSTM(64,return_sequences=True),\n",
    "    tf.keras.layers.LSTM(32),\n",
    "    tf.keras.layers.Dense(64, activation='relu'),\n",
    "    tf.keras.layers.Dense(6, activation='softmax')\n",
    "])\n",
    "mul_lstm.compile(loss='sparse_categorical_crossentropy', optimizer='adam', metrics=['accuracy'])\n",
    "mul_lstm.fit(train_padded,training_label_seq,validation_data=(validation_padded,validation_label_seq), epochs=10)"
   ]
  },
  {
   "cell_type": "code",
   "execution_count": 13,
   "metadata": {},
   "outputs": [
    {
     "name": "stdout",
     "output_type": "stream",
     "text": [
      "Epoch 1/10\n",
      "56/56 [==============================] - 7s 129ms/step - loss: 1.6364 - accuracy: 0.2511 - val_loss: 1.5497 - val_accuracy: 0.2629\n",
      "Epoch 2/10\n",
      "56/56 [==============================] - 6s 100ms/step - loss: 1.2222 - accuracy: 0.5174 - val_loss: 1.1058 - val_accuracy: 0.5303\n",
      "Epoch 3/10\n",
      "56/56 [==============================] - 5s 98ms/step - loss: 0.6633 - accuracy: 0.7539 - val_loss: 0.6356 - val_accuracy: 0.7955\n",
      "Epoch 4/10\n",
      "56/56 [==============================] - 5s 90ms/step - loss: 0.3505 - accuracy: 0.8831 - val_loss: 0.3824 - val_accuracy: 0.8809\n",
      "Epoch 5/10\n",
      "56/56 [==============================] - 5s 91ms/step - loss: 0.1580 - accuracy: 0.9539 - val_loss: 0.3138 - val_accuracy: 0.9011\n",
      "Epoch 6/10\n",
      "56/56 [==============================] - 5s 94ms/step - loss: 0.0665 - accuracy: 0.9820 - val_loss: 0.2778 - val_accuracy: 0.9281\n",
      "Epoch 7/10\n",
      "56/56 [==============================] - 5s 96ms/step - loss: 0.0692 - accuracy: 0.9798 - val_loss: 0.3361 - val_accuracy: 0.9101\n",
      "Epoch 8/10\n",
      "56/56 [==============================] - 6s 106ms/step - loss: 0.0403 - accuracy: 0.9899 - val_loss: 0.2509 - val_accuracy: 0.9348\n",
      "Epoch 9/10\n",
      "56/56 [==============================] - 7s 122ms/step - loss: 0.0128 - accuracy: 0.9972 - val_loss: 0.2522 - val_accuracy: 0.9326\n",
      "Epoch 10/10\n",
      "56/56 [==============================] - 7s 124ms/step - loss: 0.0350 - accuracy: 0.9882 - val_loss: 0.3322 - val_accuracy: 0.9034\n"
     ]
    },
    {
     "data": {
      "text/plain": [
       "<tensorflow.python.keras.callbacks.History at 0x211b2eca880>"
      ]
     },
     "execution_count": 13,
     "metadata": {},
     "output_type": "execute_result"
    }
   ],
   "source": [
    "# Bidirectional + Single LSTM\n",
    "bi_lstm = tf.keras.Sequential([\n",
    "    tf.keras.layers.Embedding(vocab_size,64),\n",
    "    tf.keras.layers.Bidirectional(tf.keras.layers.LSTM(64)),\n",
    "    tf.keras.layers.Dense(64, activation='relu'),\n",
    "    tf.keras.layers.Dense(6, activation='softmax')\n",
    "])\n",
    "bi_lstm.compile(loss='sparse_categorical_crossentropy', optimizer='adam', metrics=['accuracy'])\n",
    "bi_lstm.fit(train_padded,training_label_seq,validation_data=(validation_padded,validation_label_seq), epochs=10)"
   ]
  },
  {
   "cell_type": "code",
   "execution_count": 17,
   "metadata": {},
   "outputs": [
    {
     "name": "stdout",
     "output_type": "stream",
     "text": [
      "Epoch 1/10\n",
      "56/56 [==============================] - 11s 203ms/step - loss: 1.6182 - accuracy: 0.2483 - val_loss: 1.3976 - val_accuracy: 0.4584\n",
      "Epoch 2/10\n",
      "56/56 [==============================] - 8s 150ms/step - loss: 1.2028 - accuracy: 0.4899 - val_loss: 0.9549 - val_accuracy: 0.6135\n",
      "Epoch 3/10\n",
      "56/56 [==============================] - 9s 163ms/step - loss: 0.7461 - accuracy: 0.7140 - val_loss: 0.5706 - val_accuracy: 0.8247\n",
      "Epoch 4/10\n",
      "56/56 [==============================] - 12s 210ms/step - loss: 0.3149 - accuracy: 0.9022 - val_loss: 0.5891 - val_accuracy: 0.8045\n",
      "Epoch 5/10\n",
      "56/56 [==============================] - 9s 163ms/step - loss: 0.2344 - accuracy: 0.9242 - val_loss: 0.4726 - val_accuracy: 0.8562\n",
      "Epoch 6/10\n",
      "56/56 [==============================] - 9s 159ms/step - loss: 0.1584 - accuracy: 0.9534 - val_loss: 0.3595 - val_accuracy: 0.9034\n",
      "Epoch 7/10\n",
      "56/56 [==============================] - 10s 173ms/step - loss: 0.0885 - accuracy: 0.9770 - val_loss: 0.3567 - val_accuracy: 0.9011\n",
      "Epoch 8/10\n",
      "56/56 [==============================] - 9s 156ms/step - loss: 0.0412 - accuracy: 0.9899 - val_loss: 0.3239 - val_accuracy: 0.9236\n",
      "Epoch 9/10\n",
      "56/56 [==============================] - 9s 154ms/step - loss: 0.0259 - accuracy: 0.9944 - val_loss: 0.3662 - val_accuracy: 0.9079\n",
      "Epoch 10/10\n",
      "56/56 [==============================] - 9s 157ms/step - loss: 0.0210 - accuracy: 0.9944 - val_loss: 0.4843 - val_accuracy: 0.8854\n"
     ]
    },
    {
     "data": {
      "text/plain": [
       "<tensorflow.python.keras.callbacks.History at 0x211cadb2550>"
      ]
     },
     "execution_count": 17,
     "metadata": {},
     "output_type": "execute_result"
    }
   ],
   "source": [
    "# Bidirectional + Multiple LSTM\n",
    "bi_mul_lstm = tf.keras.Sequential([\n",
    "    tf.keras.layers.Embedding(vocab_size,64),\n",
    "    tf.keras.layers.Bidirectional(tf.keras.layers.LSTM(64, return_sequences=True)),\n",
    "    tf.keras.layers.Bidirectional(tf.keras.layers.LSTM(32)),\n",
    "    tf.keras.layers.Dense(64, activation='relu'),\n",
    "    tf.keras.layers.Dense(6, activation='softmax')\n",
    "])\n",
    "bi_mul_lstm.compile(loss='sparse_categorical_crossentropy', optimizer='adam', metrics=['accuracy'])\n",
    "bi_mul_lstm.fit(train_padded,training_label_seq,validation_data=(validation_padded,validation_label_seq), epochs=10)"
   ]
  },
  {
   "cell_type": "code",
   "execution_count": 18,
   "metadata": {},
   "outputs": [
    {
     "name": "stdout",
     "output_type": "stream",
     "text": [
      "Epoch 1/10\n",
      "56/56 [==============================] - 6s 114ms/step - loss: 1.6533 - accuracy: 0.2629 - val_loss: 1.5444 - val_accuracy: 0.3101\n",
      "Epoch 2/10\n",
      "56/56 [==============================] - 5s 83ms/step - loss: 1.3851 - accuracy: 0.4562 - val_loss: 1.0730 - val_accuracy: 0.6337\n",
      "Epoch 3/10\n",
      "56/56 [==============================] - 6s 106ms/step - loss: 0.6627 - accuracy: 0.7770 - val_loss: 0.4397 - val_accuracy: 0.8809\n",
      "Epoch 4/10\n",
      "56/56 [==============================] - 6s 99ms/step - loss: 0.2357 - accuracy: 0.9365 - val_loss: 0.3396 - val_accuracy: 0.8899\n",
      "Epoch 5/10\n",
      "56/56 [==============================] - 5s 96ms/step - loss: 0.1015 - accuracy: 0.9725 - val_loss: 0.3198 - val_accuracy: 0.8921\n",
      "Epoch 6/10\n",
      "56/56 [==============================] - 5s 88ms/step - loss: 0.0459 - accuracy: 0.9871 - val_loss: 0.2245 - val_accuracy: 0.9416\n",
      "Epoch 7/10\n",
      "56/56 [==============================] - 4s 77ms/step - loss: 0.0136 - accuracy: 0.9978 - val_loss: 0.2410 - val_accuracy: 0.9438\n",
      "Epoch 8/10\n",
      "56/56 [==============================] - 4s 76ms/step - loss: 0.0093 - accuracy: 0.9983 - val_loss: 0.3682 - val_accuracy: 0.9056\n",
      "Epoch 9/10\n",
      "56/56 [==============================] - 4s 76ms/step - loss: 0.0125 - accuracy: 0.9966 - val_loss: 0.2514 - val_accuracy: 0.9438\n",
      "Epoch 10/10\n",
      "56/56 [==============================] - 5s 89ms/step - loss: 0.0044 - accuracy: 0.9994 - val_loss: 0.2700 - val_accuracy: 0.9371\n"
     ]
    },
    {
     "data": {
      "text/plain": [
       "<tensorflow.python.keras.callbacks.History at 0x211d851ec70>"
      ]
     },
     "execution_count": 18,
     "metadata": {},
     "output_type": "execute_result"
    }
   ],
   "source": [
    "# Bidirectional + GRU\n",
    "bi_gru = tf.keras.Sequential([\n",
    "    tf.keras.layers.Embedding(vocab_size,64),\n",
    "    tf.keras.layers.Bidirectional(tf.keras.layers.GRU(64)),\n",
    "    tf.keras.layers.Dense(64, activation='relu'),\n",
    "    tf.keras.layers.Dense(6, activation='softmax')\n",
    "])\n",
    "bi_gru.compile(loss='sparse_categorical_crossentropy', optimizer='adam', metrics=['accuracy'])\n",
    "bi_gru.fit(train_padded,training_label_seq,validation_data=(validation_padded,validation_label_seq), epochs=10)"
   ]
  },
  {
   "cell_type": "code",
   "execution_count": 19,
   "metadata": {},
   "outputs": [
    {
     "name": "stdout",
     "output_type": "stream",
     "text": [
      "Epoch 1/10\n",
      "56/56 [==============================] - 2s 36ms/step - loss: 1.6282 - accuracy: 0.3258 - val_loss: 1.3917 - val_accuracy: 0.4854\n",
      "Epoch 2/10\n",
      "56/56 [==============================] - 2s 32ms/step - loss: 0.9811 - accuracy: 0.6522 - val_loss: 0.6853 - val_accuracy: 0.7348\n",
      "Epoch 3/10\n",
      "56/56 [==============================] - 2s 34ms/step - loss: 0.4232 - accuracy: 0.8944 - val_loss: 0.3386 - val_accuracy: 0.9258\n",
      "Epoch 4/10\n",
      "56/56 [==============================] - ETA: 0s - loss: 0.1767 - accuracy: 0.96 - 2s 44ms/step - loss: 0.1753 - accuracy: 0.9624 - val_loss: 0.2546 - val_accuracy: 0.9213\n",
      "Epoch 5/10\n",
      "56/56 [==============================] - 2s 43ms/step - loss: 0.0986 - accuracy: 0.9809 - val_loss: 0.2015 - val_accuracy: 0.9483\n",
      "Epoch 6/10\n",
      "56/56 [==============================] - 2s 44ms/step - loss: 0.0607 - accuracy: 0.9871 - val_loss: 0.1958 - val_accuracy: 0.9416\n",
      "Epoch 7/10\n",
      "56/56 [==============================] - 2s 38ms/step - loss: 0.0351 - accuracy: 0.9966 - val_loss: 0.2071 - val_accuracy: 0.9303\n",
      "Epoch 8/10\n",
      "56/56 [==============================] - 2s 32ms/step - loss: 0.0221 - accuracy: 0.9994 - val_loss: 0.2088 - val_accuracy: 0.9393\n",
      "Epoch 9/10\n",
      "56/56 [==============================] - 2s 32ms/step - loss: 0.0143 - accuracy: 1.0000 - val_loss: 0.2020 - val_accuracy: 0.9393\n",
      "Epoch 10/10\n",
      "56/56 [==============================] - 2s 34ms/step - loss: 0.0094 - accuracy: 1.0000 - val_loss: 0.2075 - val_accuracy: 0.9393\n"
     ]
    },
    {
     "data": {
      "text/plain": [
       "<tensorflow.python.keras.callbacks.History at 0x211db6cba00>"
      ]
     },
     "execution_count": 19,
     "metadata": {},
     "output_type": "execute_result"
    }
   ],
   "source": [
    "# Convolutional 1D\n",
    "conv1D = tf.keras.Sequential([\n",
    "    tf.keras.layers.Embedding(vocab_size,64),\n",
    "    tf.keras.layers.Conv1D(128, 5, activation='relu'),\n",
    "    tf.keras.layers.GlobalAveragePooling1D(),\n",
    "    tf.keras.layers.Dense(64, activation='relu'),\n",
    "    tf.keras.layers.Dense(6, activation='softmax')\n",
    "])\n",
    "conv1D.compile(loss='sparse_categorical_crossentropy', optimizer='adam', metrics=['accuracy'])\n",
    "conv1D.fit(train_padded,training_label_seq,validation_data=(validation_padded,validation_label_seq), epochs=10)"
   ]
  }
 ],
 "metadata": {
  "kernelspec": {
   "display_name": "Python 3",
   "language": "python",
   "name": "python3"
  },
  "language_info": {
   "codemirror_mode": {
    "name": "ipython",
    "version": 3
   },
   "file_extension": ".py",
   "mimetype": "text/x-python",
   "name": "python",
   "nbconvert_exporter": "python",
   "pygments_lexer": "ipython3",
   "version": "3.8.3"
  }
 },
 "nbformat": 4,
 "nbformat_minor": 4
}
