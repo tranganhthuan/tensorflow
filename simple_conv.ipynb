{
 "cells": [
  {
   "cell_type": "code",
   "execution_count": 1,
   "metadata": {},
   "outputs": [],
   "source": [
    "import tensorflow as tf\n",
    "import tensorflow.keras as keras"
   ]
  },
  {
   "cell_type": "code",
   "execution_count": 12,
   "metadata": {},
   "outputs": [],
   "source": [
    "class myCallback(tf.keras.callbacks.Callback):\n",
    "        def on_epoch_end(self,epoch,logs={}):\n",
    "            if logs.get('accuracy') > 0.998:\n",
    "                print(\"\\nReached 99.8% accuracy so cancelling training!\")\n",
    "                self.model.stop_training = True\n",
    "    \n",
    "callbacks = myCallback()"
   ]
  },
  {
   "cell_type": "code",
   "execution_count": 13,
   "metadata": {},
   "outputs": [],
   "source": [
    "mnist = tf.keras.datasets.mnist\n",
    "(training_images, training_labels), (test_images, test_labels) = mnist.load_data()\n",
    "\n",
    "training_images = training_images.reshape(-1,28,28,1) / 255\n",
    "test_images = test_images.reshape(-1,28,28,1) / 255"
   ]
  },
  {
   "cell_type": "code",
   "execution_count": 14,
   "metadata": {},
   "outputs": [],
   "source": [
    "model = tf.keras.models.Sequential()\n",
    "model.add(keras.layers.Conv2D(64,(3,3),activation='relu',input_shape=(28,28,1)))\n",
    "model.add(keras.layers.MaxPooling2D(2,2))\n",
    "model.add(keras.layers.Conv2D(64,(3,3),activation='relu'))\n",
    "model.add(keras.layers.MaxPooling2D(2,2)) \n",
    "model.add(keras.layers.Flatten())\n",
    "model.add(keras.layers.Dense(128, activation=tf.nn.relu))\n",
    "model.add(keras.layers.Dense(10, activation=tf.nn.softmax))\n",
    "model.compile(optimizer='adam', loss='sparse_categorical_crossentropy', metrics=['accuracy'])"
   ]
  },
  {
   "cell_type": "code",
   "execution_count": 15,
   "metadata": {},
   "outputs": [
    {
     "name": "stdout",
     "output_type": "stream",
     "text": [
      "Epoch 1/20\n",
      "235/235 [==============================] - 67s 284ms/step - loss: 0.2659 - accuracy: 0.9225\n",
      "Epoch 2/20\n",
      "235/235 [==============================] - 67s 285ms/step - loss: 0.0643 - accuracy: 0.9808\n",
      "Epoch 3/20\n",
      "235/235 [==============================] - 65s 277ms/step - loss: 0.0451 - accuracy: 0.9859\n",
      "Epoch 4/20\n",
      "235/235 [==============================] - 64s 273ms/step - loss: 0.0350 - accuracy: 0.9890\n",
      "Epoch 5/20\n",
      "235/235 [==============================] - 65s 278ms/step - loss: 0.0264 - accuracy: 0.9919\n",
      "Epoch 6/20\n",
      "235/235 [==============================] - 66s 280ms/step - loss: 0.0225 - accuracy: 0.9931\n",
      "Epoch 7/20\n",
      "235/235 [==============================] - 64s 273ms/step - loss: 0.0179 - accuracy: 0.9946\n",
      "Epoch 8/20\n",
      "235/235 [==============================] - 63s 267ms/step - loss: 0.0146 - accuracy: 0.9955\n",
      "Epoch 9/20\n",
      "235/235 [==============================] - 63s 267ms/step - loss: 0.0116 - accuracy: 0.9965\n",
      "Epoch 10/20\n",
      "235/235 [==============================] - 69s 291ms/step - loss: 0.0104 - accuracy: 0.9967\n",
      "Epoch 11/20\n",
      "235/235 [==============================] - 65s 277ms/step - loss: 0.0078 - accuracy: 0.9975\n",
      "Epoch 12/20\n",
      "235/235 [==============================] - 65s 276ms/step - loss: 0.0078 - accuracy: 0.9974\n",
      "Epoch 13/20\n",
      "235/235 [==============================] - ETA: 0s - loss: 0.0064 - accuracy: 0.9981\n",
      "Reached 99.8% accuracy so cancelling training!\n",
      "235/235 [==============================] - 66s 281ms/step - loss: 0.0064 - accuracy: 0.9981\n"
     ]
    }
   ],
   "source": [
    "history = model.fit(training_images, training_labels, epochs=5, callbacks=[callbacks], batch_size=256)"
   ]
  }
 ],
 "metadata": {
  "kernelspec": {
   "display_name": "Python 3",
   "language": "python",
   "name": "python3"
  },
  "language_info": {
   "codemirror_mode": {
    "name": "ipython",
    "version": 3
   },
   "file_extension": ".py",
   "mimetype": "text/x-python",
   "name": "python",
   "nbconvert_exporter": "python",
   "pygments_lexer": "ipython3",
   "version": "3.8.3"
  }
 },
 "nbformat": 4,
 "nbformat_minor": 4
}
