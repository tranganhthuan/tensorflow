{
 "cells": [
  {
   "cell_type": "code",
   "execution_count": 1,
   "metadata": {},
   "outputs": [],
   "source": [
    "import csv\n",
    "import tensorflow as tf\n",
    "from tensorflow.keras.layers import Dense, GlobalAveragePooling1D, Embedding"
   ]
  },
  {
   "cell_type": "code",
   "execution_count": 2,
   "metadata": {},
   "outputs": [],
   "source": [
    "import numpy as np\n",
    "train_padded = np.load(\"data/bbc_news/train/train_padded.npy\")\n",
    "validation_padded = np.load(\"data/bbc_news/validation/validation_padded.npy\")\n",
    "training_label_seq = np.load(\"data/bbc_news/train/training_label_seq.npy\")\n",
    "validation_label_seq = np.load(\"data/bbc_news/validation/validation_label_seq.npy\")"
   ]
  },
  {
   "cell_type": "code",
   "execution_count": 3,
   "metadata": {},
   "outputs": [],
   "source": [
    "import json\n",
    "with open('data/bbc_news/word_index.json') as infile:\n",
    "    word_index = json.load(infile)\n",
    "with open('data/bbc_news/label_word_index.json') as infile:\n",
    "    label_word_index = json.load(infile)"
   ]
  },
  {
   "cell_type": "code",
   "execution_count": 4,
   "metadata": {},
   "outputs": [],
   "source": [
    "vocab_size = 10000\n",
    "embedding_dim = 16\n",
    "max_length = 120"
   ]
  },
  {
   "cell_type": "code",
   "execution_count": 5,
   "metadata": {},
   "outputs": [
    {
     "name": "stdout",
     "output_type": "stream",
     "text": [
      "Model: \"sequential\"\n",
      "_________________________________________________________________\n",
      "Layer (type)                 Output Shape              Param #   \n",
      "=================================================================\n",
      "embedding (Embedding)        (None, 120, 16)           160000    \n",
      "_________________________________________________________________\n",
      "global_average_pooling1d (Gl (None, 16)                0         \n",
      "_________________________________________________________________\n",
      "dense (Dense)                (None, 24)                408       \n",
      "_________________________________________________________________\n",
      "dense_1 (Dense)              (None, 6)                 150       \n",
      "=================================================================\n",
      "Total params: 160,558\n",
      "Trainable params: 160,558\n",
      "Non-trainable params: 0\n",
      "_________________________________________________________________\n"
     ]
    }
   ],
   "source": [
    "model = tf.keras.Sequential()\n",
    "model.add(Embedding(vocab_size,embedding_dim,input_length=max_length))\n",
    "model.add(GlobalAveragePooling1D())\n",
    "model.add(Dense(24, activation='relu'))\n",
    "model.add(Dense(6, activation=\"softmax\"))\n",
    "model.compile(loss='sparse_categorical_crossentropy',optimizer='adam',metrics=['accuracy'])\n",
    "model.summary()"
   ]
  },
  {
   "cell_type": "code",
   "execution_count": 6,
   "metadata": {},
   "outputs": [
    {
     "name": "stdout",
     "output_type": "stream",
     "text": [
      "Epoch 1/30\n",
      "56/56 [==============================] - 0s 6ms/step - loss: 1.7630 - accuracy: 0.3331 - val_loss: 1.7245 - val_accuracy: 0.4899\n",
      "Epoch 2/30\n",
      "56/56 [==============================] - 0s 4ms/step - loss: 1.6772 - accuracy: 0.4090 - val_loss: 1.6208 - val_accuracy: 0.3775\n",
      "Epoch 3/30\n",
      "56/56 [==============================] - 0s 4ms/step - loss: 1.5565 - accuracy: 0.5270 - val_loss: 1.4896 - val_accuracy: 0.5079\n",
      "Epoch 4/30\n",
      "56/56 [==============================] - 0s 5ms/step - loss: 1.3943 - accuracy: 0.6584 - val_loss: 1.3077 - val_accuracy: 0.7034\n",
      "Epoch 5/30\n",
      "56/56 [==============================] - 0s 4ms/step - loss: 1.1827 - accuracy: 0.7309 - val_loss: 1.0967 - val_accuracy: 0.7506\n",
      "Epoch 6/30\n",
      "56/56 [==============================] - 0s 5ms/step - loss: 0.9675 - accuracy: 0.7551 - val_loss: 0.9099 - val_accuracy: 0.8427\n",
      "Epoch 7/30\n",
      "56/56 [==============================] - 0s 3ms/step - loss: 0.7875 - accuracy: 0.8966 - val_loss: 0.7576 - val_accuracy: 0.8472\n",
      "Epoch 8/30\n",
      "56/56 [==============================] - 0s 4ms/step - loss: 0.6417 - accuracy: 0.9101 - val_loss: 0.6341 - val_accuracy: 0.8966\n",
      "Epoch 9/30\n",
      "56/56 [==============================] - 0s 4ms/step - loss: 0.5256 - accuracy: 0.9360 - val_loss: 0.5323 - val_accuracy: 0.9056\n",
      "Epoch 10/30\n",
      "56/56 [==============================] - 0s 3ms/step - loss: 0.4266 - accuracy: 0.9455 - val_loss: 0.4532 - val_accuracy: 0.9124\n",
      "Epoch 11/30\n",
      "56/56 [==============================] - 0s 3ms/step - loss: 0.3474 - accuracy: 0.9534 - val_loss: 0.3920 - val_accuracy: 0.9169\n",
      "Epoch 12/30\n",
      "56/56 [==============================] - 0s 3ms/step - loss: 0.2856 - accuracy: 0.9601 - val_loss: 0.3382 - val_accuracy: 0.9236\n",
      "Epoch 13/30\n",
      "56/56 [==============================] - 0s 3ms/step - loss: 0.2368 - accuracy: 0.9635 - val_loss: 0.3015 - val_accuracy: 0.9326\n",
      "Epoch 14/30\n",
      "56/56 [==============================] - 0s 4ms/step - loss: 0.2025 - accuracy: 0.9657 - val_loss: 0.2722 - val_accuracy: 0.9416\n",
      "Epoch 15/30\n",
      "56/56 [==============================] - 0s 4ms/step - loss: 0.1717 - accuracy: 0.9747 - val_loss: 0.2544 - val_accuracy: 0.9393\n",
      "Epoch 16/30\n",
      "56/56 [==============================] - 0s 4ms/step - loss: 0.1486 - accuracy: 0.9792 - val_loss: 0.2356 - val_accuracy: 0.9416\n",
      "Epoch 17/30\n",
      "56/56 [==============================] - 0s 3ms/step - loss: 0.1301 - accuracy: 0.9809 - val_loss: 0.2295 - val_accuracy: 0.9416\n",
      "Epoch 18/30\n",
      "56/56 [==============================] - 0s 3ms/step - loss: 0.1147 - accuracy: 0.9831 - val_loss: 0.2133 - val_accuracy: 0.9461\n",
      "Epoch 19/30\n",
      "56/56 [==============================] - 0s 3ms/step - loss: 0.1006 - accuracy: 0.9865 - val_loss: 0.2050 - val_accuracy: 0.9438\n",
      "Epoch 20/30\n",
      "56/56 [==============================] - 0s 4ms/step - loss: 0.0891 - accuracy: 0.9899 - val_loss: 0.2007 - val_accuracy: 0.9438\n",
      "Epoch 21/30\n",
      "56/56 [==============================] - 0s 4ms/step - loss: 0.0791 - accuracy: 0.9904 - val_loss: 0.1940 - val_accuracy: 0.9461\n",
      "Epoch 22/30\n",
      "56/56 [==============================] - 0s 4ms/step - loss: 0.0708 - accuracy: 0.9927 - val_loss: 0.1907 - val_accuracy: 0.9483\n",
      "Epoch 23/30\n",
      "56/56 [==============================] - 0s 3ms/step - loss: 0.0631 - accuracy: 0.9938 - val_loss: 0.1854 - val_accuracy: 0.9461\n",
      "Epoch 24/30\n",
      "56/56 [==============================] - 0s 3ms/step - loss: 0.0567 - accuracy: 0.9949 - val_loss: 0.1817 - val_accuracy: 0.9506\n",
      "Epoch 25/30\n",
      "56/56 [==============================] - 0s 3ms/step - loss: 0.0504 - accuracy: 0.9961 - val_loss: 0.1780 - val_accuracy: 0.9461\n",
      "Epoch 26/30\n",
      "56/56 [==============================] - 0s 3ms/step - loss: 0.0452 - accuracy: 0.9961 - val_loss: 0.1777 - val_accuracy: 0.9483\n",
      "Epoch 27/30\n",
      "56/56 [==============================] - 0s 3ms/step - loss: 0.0407 - accuracy: 0.9978 - val_loss: 0.1752 - val_accuracy: 0.9438\n",
      "Epoch 28/30\n",
      "56/56 [==============================] - 0s 3ms/step - loss: 0.0365 - accuracy: 0.9983 - val_loss: 0.1763 - val_accuracy: 0.9506\n",
      "Epoch 29/30\n",
      "56/56 [==============================] - 0s 3ms/step - loss: 0.0329 - accuracy: 0.9994 - val_loss: 0.1740 - val_accuracy: 0.9528\n",
      "Epoch 30/30\n",
      "56/56 [==============================] - 0s 3ms/step - loss: 0.0298 - accuracy: 1.0000 - val_loss: 0.1724 - val_accuracy: 0.9528\n"
     ]
    }
   ],
   "source": [
    "history = model.fit(train_padded,training_label_seq,validation_data=(validation_padded,validation_label_seq), epochs=30)"
   ]
  },
  {
   "cell_type": "code",
   "execution_count": 7,
   "metadata": {},
   "outputs": [
    {
     "name": "stdout",
     "output_type": "stream",
     "text": [
      "WARNING:tensorflow:From C:\\Users\\Neo\\Anaconda3\\lib\\site-packages\\tensorflow\\python\\training\\tracking\\tracking.py:111: Model.state_updates (from tensorflow.python.keras.engine.training) is deprecated and will be removed in a future version.\n",
      "Instructions for updating:\n",
      "This property should not be used in TensorFlow 2.0, as updates are applied automatically.\n",
      "WARNING:tensorflow:From C:\\Users\\Neo\\Anaconda3\\lib\\site-packages\\tensorflow\\python\\training\\tracking\\tracking.py:111: Layer.updates (from tensorflow.python.keras.engine.base_layer) is deprecated and will be removed in a future version.\n",
      "Instructions for updating:\n",
      "This property should not be used in TensorFlow 2.0, as updates are applied automatically.\n",
      "INFO:tensorflow:Assets written to: model/bbc_news\\assets\n"
     ]
    }
   ],
   "source": [
    "tf.keras.models.save_model(model,'model/bbc_news')"
   ]
  },
  {
   "cell_type": "code",
   "execution_count": 7,
   "metadata": {},
   "outputs": [
    {
     "name": "stdout",
     "output_type": "stream",
     "text": [
      "(10000, 16)\n"
     ]
    }
   ],
   "source": [
    "e = model.layers[0]\n",
    "weights = e.get_weights()[0]\n",
    "print(weights.shape) # shape: (vocab_size, embedding_dim)"
   ]
  },
  {
   "cell_type": "code",
   "execution_count": 8,
   "metadata": {},
   "outputs": [],
   "source": [
    "import io\n",
    "\n",
    "reverse_word_index = dict([(value, key) for (key, value) in word_index.items()])\n",
    "\n",
    "out_v = io.open('data/bbc_news/visualize/vecs.tsv', 'w', encoding='utf-8')\n",
    "out_m = io.open('data/bbc_news/visualize/meta.tsv', 'w', encoding='utf-8')\n",
    "\n",
    "for word_num in range(1, vocab_size):\n",
    "    word = reverse_word_index[word_num]\n",
    "    embeddings = weights[word_num]\n",
    "    out_m.write(word + \"\\n\")\n",
    "    out_v.write('\\t'.join([str(x) for x in embeddings]) + \"\\n\")\n",
    "out_v.close()\n",
    "out_m.close()"
   ]
  }
 ],
 "metadata": {
  "kernelspec": {
   "display_name": "Python 3",
   "language": "python",
   "name": "python3"
  },
  "language_info": {
   "codemirror_mode": {
    "name": "ipython",
    "version": 3
   },
   "file_extension": ".py",
   "mimetype": "text/x-python",
   "name": "python",
   "nbconvert_exporter": "python",
   "pygments_lexer": "ipython3",
   "version": "3.8.3"
  }
 },
 "nbformat": 4,
 "nbformat_minor": 4
}
