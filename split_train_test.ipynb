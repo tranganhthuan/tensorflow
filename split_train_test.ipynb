{
 "cells": [
  {
   "cell_type": "code",
   "execution_count": 1,
   "metadata": {},
   "outputs": [],
   "source": [
    "import os\n",
    "import random\n",
    "from shutil import copyfile,rmtree"
   ]
  },
  {
   "cell_type": "code",
   "execution_count": 9,
   "metadata": {},
   "outputs": [],
   "source": [
    "try:\n",
    "    rmtree('data/cats_vs_dogs/training/') \n",
    "    rmtree('data/cats_vs_dogs/testing') \n",
    "except OSError:\n",
    "    pass   "
   ]
  },
  {
   "cell_type": "code",
   "execution_count": 10,
   "metadata": {},
   "outputs": [],
   "source": [
    "try:\n",
    "    parent_dir = os.path.join(os.getcwd(), \"data/cats_vs_dogs\")\n",
    "    for dataset in [\"training\",\"testing\"]:\n",
    "        sub_dir = os.path.join(parent_dir, dataset)\n",
    "        os.mkdir(sub_dir)\n",
    "        for animal in [\"cats\",\"dogs\"]:\n",
    "            os.mkdir(os.path.join(sub_dir,animal))\n",
    "except OSError:\n",
    "    pass"
   ]
  },
  {
   "cell_type": "code",
   "execution_count": 11,
   "metadata": {},
   "outputs": [],
   "source": [
    "def split_data(SOURCE, TRAINING, TESTING, SPLIT_SIZE):\n",
    "# YOUR CODE STARTS HERE\n",
    "    imgs = os.listdir(SOURCE)\n",
    "    test_imgs = random.sample(imgs, len(imgs) - int(SPLIT_SIZE * len(imgs)))\n",
    "    for img in imgs:\n",
    "        if(os.path.getsize(os.path.join(SOURCE,img))) != 0:\n",
    "            if img in test_imgs:\n",
    "                copyfile(os.path.join(SOURCE,img), os.path.join(TESTING,img))\n",
    "            else:\n",
    "                copyfile(os.path.join(SOURCE,img), os.path.join(TRAINING,img))\n",
    "CAT_SOURCE_DIR = \"data/cats_vs_dogs/cats/\"\n",
    "TRAINING_CATS_DIR = \"data/cats_vs_dogs/training/cats/\"\n",
    "TESTING_CATS_DIR = \"data/cats_vs_dogs/testing/cats/\"\n",
    "DOG_SOURCE_DIR = \"data/cats_vs_dogs/dogs/\"\n",
    "TRAINING_DOGS_DIR = \"data/cats_vs_dogs/training/dogs/\"\n",
    "TESTING_DOGS_DIR = \"data/cats_vs_dogs/testing/dogs/\"\n",
    "\n",
    "split_size = .9\n",
    "split_data(CAT_SOURCE_DIR, TRAINING_CATS_DIR, TESTING_CATS_DIR, split_size)\n",
    "split_data(DOG_SOURCE_DIR, TRAINING_DOGS_DIR, TESTING_DOGS_DIR, split_size)"
   ]
  }
 ],
 "metadata": {
  "kernelspec": {
   "display_name": "Python 3",
   "language": "python",
   "name": "python3"
  },
  "language_info": {
   "codemirror_mode": {
    "name": "ipython",
    "version": 3
   },
   "file_extension": ".py",
   "mimetype": "text/x-python",
   "name": "python",
   "nbconvert_exporter": "python",
   "pygments_lexer": "ipython3",
   "version": "3.8.3"
  }
 },
 "nbformat": 4,
 "nbformat_minor": 4
}
